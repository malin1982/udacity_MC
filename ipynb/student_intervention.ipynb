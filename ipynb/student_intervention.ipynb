{
 "cells": [
  {
   "cell_type": "markdown",
   "metadata": {
    "nbpresent": {
     "id": "3878cdfc-8c39-4f1d-b1ee-fa9754493b08"
    }
   },
   "source": [
    "# Machine Learning Engineer Nanodegree\n",
    "## Supervised Learning\n",
    "## Project 2: Building a Student Intervention System"
   ]
  },
  {
   "cell_type": "markdown",
   "metadata": {
    "nbpresent": {
     "id": "6bf5fe24-6b76-46cc-bf70-0e60e889af5f"
    }
   },
   "source": [
    "Welcome to the second project of the Machine Learning Engineer Nanodegree! In this notebook, some template code has already been provided for you, and it will be your job to implement the additional functionality necessary to successfully complete this project. Sections that begin with **'Implementation'** in the header indicate that the following block of code will require additional functionality which you must provide. Instructions will be provided for each section and the specifics of the implementation are marked in the code block with a `'TODO'` statement. Please be sure to read the instructions carefully!\n",
    "\n",
    "In addition to implementing code, there will be questions that you must answer which relate to the project and your implementation. Each section where you will answer a question is preceded by a **'Question X'** header. Carefully read each question and provide thorough answers in the following text boxes that begin with **'Answer:'**. Your project submission will be evaluated based on your answers to each of the questions and the implementation you provide.  \n",
    "\n",
    ">**Note:** Code and Markdown cells can be executed using the **Shift + Enter** keyboard shortcut. In addition, Markdown cells can be edited by typically double-clicking the cell to enter edit mode."
   ]
  },
  {
   "cell_type": "markdown",
   "metadata": {
    "nbpresent": {
     "id": "6f7690e3-f69f-424f-bb86-4abe2e8f167c"
    }
   },
   "source": [
    "### Question 1 - Classification vs. Regression\n",
    "*Your goal for this project is to identify students who might need early intervention before they fail to graduate. Which type of supervised learning problem is this, classification or regression? Why?*"
   ]
  },
  {
   "cell_type": "markdown",
   "metadata": {
    "nbpresent": {
     "id": "ec70b892-b702-40c8-bc40-7fbfe68f186e"
    }
   },
   "source": [
    "This is a classification problem, since the output we are going to predict is binary, which is wether or not a student will pass. While in the regression case, the prediction will often times be continious. Say predict a student's final exam score."
   ]
  },
  {
   "cell_type": "markdown",
   "metadata": {
    "nbpresent": {
     "id": "50b4fc22-db15-4974-a1d4-5f442ca7a560"
    }
   },
   "source": [
    "## Exploring the Data\n",
    "Run the code cell below to load necessary Python libraries and load the student data. Note that the last column from this dataset, `'passed'`, will be our target label (whether the student graduated or didn't graduate). All other columns are features about each student."
   ]
  },
  {
   "cell_type": "code",
   "execution_count": 1,
   "metadata": {
    "collapsed": false,
    "nbpresent": {
     "id": "c52433dd-ff0b-4c9b-8e89-3a867c326c45"
    }
   },
   "outputs": [
    {
     "name": "stdout",
     "output_type": "stream",
     "text": [
      "Student data read successfully!\n"
     ]
    }
   ],
   "source": [
    "# Import libraries\n",
    "import numpy as np\n",
    "import pandas as pd\n",
    "from time import time\n",
    "from sklearn.metrics import f1_score\n",
    "\n",
    "# Read student data\n",
    "student_data = pd.read_csv(\"student-data.csv\")\n",
    "print \"Student data read successfully!\""
   ]
  },
  {
   "cell_type": "markdown",
   "metadata": {
    "nbpresent": {
     "id": "44bc9d93-a1ea-4d90-9ef8-4e02b42dc693"
    }
   },
   "source": [
    "### Implementation: Data Exploration\n",
    "Let's begin by investigating the dataset to determine how many students we have information on, and learn about the graduation rate among these students. In the code cell below, you will need to compute the following:\n",
    "- The total number of students, `n_students`.\n",
    "- The total number of features for each student, `n_features`.\n",
    "- The number of those students who passed, `n_passed`.\n",
    "- The number of those students who failed, `n_failed`.\n",
    "- The graduation rate of the class, `grad_rate`, in percent (%).\n"
   ]
  },
  {
   "cell_type": "code",
   "execution_count": 2,
   "metadata": {
    "collapsed": false,
    "nbpresent": {
     "id": "ef8465ca-e4fc-4c6b-b37e-9265de744937"
    }
   },
   "outputs": [
    {
     "name": "stdout",
     "output_type": "stream",
     "text": [
      "Total number of students: 395\n",
      "Number of features: 30\n",
      "Number of students who passed: 265\n",
      "Number of students who failed: 130\n",
      "Graduation rate of the class: 67.09%\n",
      "\n",
      "F1 score for predicting all 'yes': 0.8030\n"
     ]
    }
   ],
   "source": [
    "# TODO: Calculate number of students\n",
    "#print student_data.iloc[1]\n",
    "#print len(student_data.columns.values!='passed')\n",
    "#print student_data.columns.values\n",
    "#print len(student_data.row)\n",
    "#print len(student_data[student_data['passed']=='no'])\n",
    "#print student_data['school'].count()\n",
    "\n",
    "\n",
    "n_students = student_data['school'].count()\n",
    "\n",
    "# TODO: Calculate number of features\n",
    "n_features = len(student_data.columns.values)-1\n",
    "\n",
    "# TODO: Calculate passing students\n",
    "n_passed = len(student_data[student_data['passed']=='yes'])\n",
    "\n",
    "# TODO: Calculate failing students\n",
    "n_failed = len(student_data[student_data['passed']=='no'])\n",
    "\n",
    "# TODO: Calculate graduation rate\n",
    "grad_rate = float(n_passed)/float(n_students)*100\n",
    "\n",
    "# Print the results\n",
    "print \"Total number of students: {}\".format(n_students)\n",
    "print \"Number of features: {}\".format(n_features)\n",
    "print \"Number of students who passed: {}\".format(n_passed)\n",
    "print \"Number of students who failed: {}\".format(n_failed)\n",
    "print \"Graduation rate of the class: {:.2f}%\".format(grad_rate)\n",
    "\n",
    "'''As one can see we have an imbalanced proportion of yes and no labels and will want to make sure the metric we \n",
    "are using for model evaluation is capturing how well the model is actually doing.\n",
    "in this project we use the F1 score. As a benchmark for our final model, we can use the F1 score from predicting all\n",
    "'yes' values:'''\n",
    "from sklearn.metrics import f1_score\n",
    "print \"\\nF1 score for predicting all 'yes': {:.4f}\".format( \n",
    "f1_score(y_true = ['yes']*n_passed + ['no']*n_failed, y_pred = ['yes']*n_students, pos_label = 'yes', average='binary'))\n"
   ]
  },
  {
   "cell_type": "markdown",
   "metadata": {
    "nbpresent": {
     "id": "0fcc5c93-85bf-4c36-9c96-199bc5c1dd55"
    }
   },
   "source": [
    "## Preparing the Data\n",
    "In this section, we will prepare the data for modeling, training and testing.\n",
    "\n",
    "### Identify feature and target columns\n",
    "It is often the case that the data you obtain contains non-numeric features. This can be a problem, as most machine learning algorithms expect numeric data to perform computations with.\n",
    "\n",
    "Run the code cell below to separate the student data into feature and target columns to see if any features are non-numeric."
   ]
  },
  {
   "cell_type": "code",
   "execution_count": 3,
   "metadata": {
    "collapsed": false,
    "nbpresent": {
     "id": "38f2de4f-d24b-4aa1-996e-8b0467f31236"
    }
   },
   "outputs": [
    {
     "name": "stdout",
     "output_type": "stream",
     "text": [
      "Feature columns:\n",
      "['school', 'sex', 'age', 'address', 'famsize', 'Pstatus', 'Medu', 'Fedu', 'Mjob', 'Fjob', 'reason', 'guardian', 'traveltime', 'studytime', 'failures', 'schoolsup', 'famsup', 'paid', 'activities', 'nursery', 'higher', 'internet', 'romantic', 'famrel', 'freetime', 'goout', 'Dalc', 'Walc', 'health', 'absences']\n",
      "\n",
      "Target column: passed\n",
      "\n",
      "Feature values:\n",
      "  school sex  age address famsize Pstatus  Medu  Fedu     Mjob      Fjob  \\\n",
      "0     GP   F   18       U     GT3       A     4     4  at_home   teacher   \n",
      "1     GP   F   17       U     GT3       T     1     1  at_home     other   \n",
      "2     GP   F   15       U     LE3       T     1     1  at_home     other   \n",
      "3     GP   F   15       U     GT3       T     4     2   health  services   \n",
      "4     GP   F   16       U     GT3       T     3     3    other     other   \n",
      "\n",
      "    ...    higher internet  romantic  famrel  freetime goout Dalc Walc health  \\\n",
      "0   ...       yes       no        no       4         3     4    1    1      3   \n",
      "1   ...       yes      yes        no       5         3     3    1    1      3   \n",
      "2   ...       yes      yes        no       4         3     2    2    3      3   \n",
      "3   ...       yes      yes       yes       3         2     2    1    1      5   \n",
      "4   ...       yes       no        no       4         3     2    1    2      5   \n",
      "\n",
      "  absences  \n",
      "0        6  \n",
      "1        4  \n",
      "2       10  \n",
      "3        2  \n",
      "4        4  \n",
      "\n",
      "[5 rows x 30 columns]\n"
     ]
    }
   ],
   "source": [
    "# Extract feature columns\n",
    "feature_cols = list(student_data.columns[:-1])\n",
    "\n",
    "# Extract target column 'passed'\n",
    "target_col = student_data.columns[-1] \n",
    "\n",
    "# Show the list of columns\n",
    "print \"Feature columns:\\n{}\".format(feature_cols)\n",
    "print \"\\nTarget column: {}\".format(target_col)\n",
    "\n",
    "# Separate the data into feature data and target data (X_all and y_all, respectively)\n",
    "X_all = student_data[feature_cols]\n",
    "y_all = student_data[target_col]\n",
    "#print y_all\n",
    "# Show the feature information by printing the first five rows\n",
    "print \"\\nFeature values:\"\n",
    "print X_all.head()"
   ]
  },
  {
   "cell_type": "markdown",
   "metadata": {
    "nbpresent": {
     "id": "56cb0801-c136-414b-b3ba-344c0f97d652"
    }
   },
   "source": [
    "### Preprocess Feature Columns\n",
    "\n",
    "As you can see, there are several non-numeric columns that need to be converted! Many of them are simply `yes`/`no`, e.g. `internet`. These can be reasonably converted into `1`/`0` (binary) values.\n",
    "\n",
    "Other columns, like `Mjob` and `Fjob`, have more than two values, and are known as _categorical variables_. The recommended way to handle such a column is to create as many columns as possible values (e.g. `Fjob_teacher`, `Fjob_other`, `Fjob_services`, etc.), and assign a `1` to one of them and `0` to all others.\n",
    "\n",
    "These generated columns are sometimes called _dummy variables_, and we will use the [`pandas.get_dummies()`](http://pandas.pydata.org/pandas-docs/stable/generated/pandas.get_dummies.html?highlight=get_dummies#pandas.get_dummies) function to perform this transformation. Run the code cell below to perform the preprocessing routine discussed in this section."
   ]
  },
  {
   "cell_type": "code",
   "execution_count": 4,
   "metadata": {
    "collapsed": false,
    "nbpresent": {
     "id": "cfbd5fdf-5921-4d11-a17c-15246580c104"
    }
   },
   "outputs": [
    {
     "name": "stdout",
     "output_type": "stream",
     "text": [
      "Processed feature columns (48 total features):\n",
      "['school_GP', 'school_MS', 'sex_F', 'sex_M', 'age', 'address_R', 'address_U', 'famsize_GT3', 'famsize_LE3', 'Pstatus_A', 'Pstatus_T', 'Medu', 'Fedu', 'Mjob_at_home', 'Mjob_health', 'Mjob_other', 'Mjob_services', 'Mjob_teacher', 'Fjob_at_home', 'Fjob_health', 'Fjob_other', 'Fjob_services', 'Fjob_teacher', 'reason_course', 'reason_home', 'reason_other', 'reason_reputation', 'guardian_father', 'guardian_mother', 'guardian_other', 'traveltime', 'studytime', 'failures', 'schoolsup', 'famsup', 'paid', 'activities', 'nursery', 'higher', 'internet', 'romantic', 'famrel', 'freetime', 'goout', 'Dalc', 'Walc', 'health', 'absences']\n"
     ]
    }
   ],
   "source": [
    "def preprocess_features(X):\n",
    "    ''' Preprocesses the student data and converts non-numeric binary variables into\n",
    "        binary (0/1) variables. Converts categorical variables into dummy variables. '''\n",
    "    \n",
    "    # Initialize new output DataFrame\n",
    "    output = pd.DataFrame(index = X.index)\n",
    "\n",
    "    # Investigate each feature column for the data\n",
    "    for col, col_data in X.iteritems():\n",
    "        \n",
    "        # If data type is non-numeric, replace all yes/no values with 1/0\n",
    "        if col_data.dtype == object:\n",
    "            col_data = col_data.replace(['yes', 'no'], [1, 0])\n",
    "\n",
    "        # If data type is categorical, convert to dummy variables\n",
    "        if col_data.dtype == object:\n",
    "            # Example: 'school' => 'school_GP' and 'school_MS'\n",
    "            col_data = pd.get_dummies(col_data, prefix = col)  \n",
    "        \n",
    "        # Collect the revised columns\n",
    "        output = output.join(col_data)\n",
    "    \n",
    "    return output\n",
    "\n",
    "X_all = preprocess_features(X_all)\n",
    "#print preprocess_features(y_all)\n",
    "print \"Processed feature columns ({} total features):\\n{}\".format(len(X_all.columns), list(X_all.columns))"
   ]
  },
  {
   "cell_type": "markdown",
   "metadata": {
    "nbpresent": {
     "id": "e18ef29f-2a48-4d89-b02c-ac00a1d26342"
    }
   },
   "source": [
    "### Implementation: Training and Testing Data Split\n",
    "So far, we have converted all _categorical_ features into numeric values. For the next step, we split the data (both features and corresponding labels) into training and test sets. In the following code cell below, you will need to implement the following:\n",
    "- Randomly shuffle and split the data (`X_all`, `y_all`) into training and testing subsets.\n",
    "  - Use 300 training points (approximately 75%) and 95 testing points (approximately 25%).\n",
    "  - Set a `random_state` for the function(s) you use, if provided.\n",
    "  - Store the results in `X_train`, `X_test`, `y_train`, and `y_test`."
   ]
  },
  {
   "cell_type": "code",
   "execution_count": 12,
   "metadata": {
    "collapsed": false,
    "nbpresent": {
     "id": "c2f28f20-f814-4c0b-b038-c9b67c6a7661"
    }
   },
   "outputs": [
    {
     "name": "stdout",
     "output_type": "stream",
     "text": [
      "Training set has 300 samples.\n",
      "Testing set has 95 samples.\n"
     ]
    }
   ],
   "source": [
    "# TODO: Import any additional functionality you may need here\n",
    "\n",
    "# TODO: Set the number of training points\n",
    "num_train = 300\n",
    "\n",
    "# Set the number of testing points\n",
    "num_test = X_all.shape[0] - num_train\n",
    "\n",
    "from sklearn.cross_validation import train_test_split\n",
    "# TODO: Shuffle and split the dataset into the number of training and testing points above\n",
    "#X_train = None\n",
    "#X_test = None\n",
    "#y_train = None\n",
    "#y_test = None\n",
    "X_train, X_test, y_train, y_test = train_test_split(X_all, y_all, stratify = y_all, test_size=95, random_state=42)\n",
    "\n",
    "'''\n",
    "Suggestion: scale the features\n",
    "Feature scaling can often have a big impact on the performance of machine learning algorithms. You might\n",
    "also experiment with trying to improve the F1 even more by first normalizing the features..\n",
    "'''\n",
    "from sklearn.preprocessing import Normalizer\n",
    "\n",
    "normer = Normalizer()\n",
    "X_train = normer.fit_transform(X_train)\n",
    "X_test = normer.fit_transform(X_test)\n",
    "\n",
    "# Show the results of the split\n",
    "print \"Training set has {} samples.\".format(X_train.shape[0])\n",
    "print \"Testing set has {} samples.\".format(X_test.shape[0])"
   ]
  },
  {
   "cell_type": "markdown",
   "metadata": {
    "nbpresent": {
     "id": "c693f74c-496c-43f7-bd3d-986ab5797240"
    }
   },
   "source": [
    "## Training and Evaluating Models\n",
    "In this section, you will choose 3 supervised learning models that are appropriate for this problem and available in `scikit-learn`. You will first discuss the reasoning behind choosing these three models by considering what you know about the data and each model's strengths and weaknesses. You will then fit the model to varying sizes of training data (100 data points, 200 data points, and 300 data points) and measure the F<sub>1</sub> score. You will need to produce three tables (one for each model) that shows the training set size, training time, prediction time, F<sub>1</sub> score on the training set, and F<sub>1</sub> score on the testing set.\n",
    "\n",
    "**The following supervised learning models are currently available in** [`scikit-learn`](http://scikit-learn.org/stable/supervised_learning.html) **that you may choose from:**\n",
    "- Gaussian Naive Bayes (GaussianNB)\n",
    "- Decision Trees\n",
    "- Ensemble Methods (Bagging, AdaBoost, Random Forest, Gradient Boosting)\n",
    "- K-Nearest Neighbors (KNeighbors)\n",
    "- Stochastic Gradient Descent (SGDC)\n",
    "- Support Vector Machines (SVM)\n",
    "- Logistic Regression\n",
    "\n",
    "\n",
    "- Naive Bayes\n",
    "Naive Bayes learners and classifiers can be extremely fast compared to more sophisticated methods. The decoupling of the class conditional feature distributions means that each distribution can be independently estimated as a one dimensional distribution. This in turn helps to alleviate problems stemming from the curse of dimensionality.\n",
    "On the flip side, although naive Bayes is known as a decent classifier, it is known to be a bad estimator, so the probability outputs from predict_proba are not to be taken too seriously.\n",
    "\n",
    "- Decision Trees\n",
    "- Some advantages of decision trees are:\n",
    "- Simple to understand and to interpret. Trees can be visualised.\n",
    "- Requires little data preparation. Other techniques often require data normalisation, dummy variables need to be created and blank values to be removed. Note however that this module does not support missing values.\n",
    "- The cost of using the tree (i.e., predicting data) is logarithmic in the number of data points used to train the tree.\n",
    "- Able to handle both numerical and categorical data. Other techniques are usually specialised in analysing datasets that have only one type of variable. See algorithms for more information.\n",
    "- Able to handle multi-output problems.\n",
    "- Uses a white box model. If a given situation is observable in a model, the explanation for the condition is easily explained by boolean logic. By contrast, in a black box model (e.g., in an artificial neural network), results may be more difficult to interpret.\n",
    "- Possible to validate a model using statistical tests. That makes it possible to account for the reliability of the model.\n",
    "- Performs well even if its assumptions are somewhat violated by the true model from which the data were generated.\n",
    "- The disadvantages of decision trees include:\n",
    "- Decision-tree learners can create over-complex trees that do not generalise the data well. This is called overfitting. Mechanisms such as pruning (not currently supported), setting the minimum number of samples required at a leaf node or setting the maximum depth of the tree are necessary to avoid this problem.\n",
    "- Decision trees can be unstable because small variations in the data might result in a completely different tree being generated. This problem is mitigated by using decision trees within an ensemble.\n",
    "- The problem of learning an optimal decision tree is known to be NP-complete under several aspects of optimality and even for simple concepts. Consequently, practical decision-tree learning algorithms are based on heuristic algorithms such as the greedy algorithm where locally optimal decisions are made at each node. Such algorithms cannot guarantee to return the globally optimal decision tree. This can be mitigated by training multiple trees in an ensemble learner, where the features and samples are randomly sampled with replacement.\n",
    "- There are concepts that are hard to learn because decision trees do not express them easily, such as XOR, parity or multiplexer problems.\n",
    "- Decision tree learners create biased trees if some classes dominate. It is therefore recommended to balance the dataset prior to fitting with the decision tree.\n",
    "\n",
    "- Ensemble\n",
    "The goal of ensemble methods is to combine the predictions of several base estimators built with a given learning algorithm in order to improve generalizability / robustness over a single estimator.\n",
    "\n",
    "- bagging meta methods:\n",
    "In many cases, bagging methods constitute a very simple way to improve with respect to a single model, without making it necessary to adapt the underlying base algorithm. As they provide a way to reduce overfitting, bagging methods work best with strong and complex models (e.g., fully developed decision trees), in contrast with boosting methods which usually work best with weak models (e.g., shallow decision trees).\n",
    "\n",
    "- Nearest Neighbors\n",
    "Supervised neighbors-based learning comes in two flavors: classification for data with discrete labels, and regression for data with continuous labels.Neighbors-based methods are known as non-generalizing machine learning methods, since they simply “remember” all of its training data. Despite its simplicity, nearest neighbors has been successful in a large number of classification and regression problems, including handwritten digits or satellite image scenes. Being a non-parametric method, it is often successful in classification situations where the decision boundary is very irregular.\n",
    "\n",
    "- Stochastic Gradient Descent (SGDC)\n",
    "SGD has been successfully applied to large-scale and sparse machine learning problems often encountered in text classification and natural language processing. Given that the data is sparse, the classifiers in this module easily scale to problems with more than 10^5 training examples and more than 10^5 features.\n",
    "- The advantages of Stochastic Gradient Descent are:\n",
    "Efficiency.\n",
    "Ease of implementation (lots of opportunities for code tuning).\n",
    "- The disadvantages of Stochastic Gradient Descent include:\n",
    "SGD requires a number of hyperparameters such as the regularization parameter and the number of iterations.\n",
    "SGD is sensitive to feature scaling.\n",
    "The major advantage of SGD is its efficiency, which is basically linear in the number of training examples. If X is a matrix of size (n, p) training has a cost of O(k n \\bar p), where k is the number of iterations (epochs) and \\bar p is the average number of non-zero attributes per sample.\n",
    "\n",
    "- SVM\n",
    "Support vector machines (SVMs) are a set of supervised learning methods used for classification, regression and outliers detection.\n",
    "\n",
    "- The advantages of support vector machines are:\n",
    "Effective in high dimensional spaces.\n",
    "Still effective in cases where number of dimensions is greater than the number of samples.\n",
    "Uses a subset of training points in the decision function (called support vectors), so it is also memory efficient.\n",
    "Versatile: different Kernel functions can be specified for the decision function. Common kernels are provided, but it is also possible to specify custom kernels.\n",
    "\n",
    "- The disadvantages of support vector machines include:\n",
    "If the number of features is much greater than the number of samples, the method is likely to give poor performances.\n",
    "SVMs do not directly provide probability estimates, these are calculated using an expensive five-fold cross-validation (see Scores and probabilities, below).\n",
    "\n",
    "- Logistic Regression\n",
    "Logistic regression, despite its name, is a linear model for classification rather than regression. Logistic regression is also known in the literature as logit regression, maximum-entropy classification (MaxEnt) or the log-linear classifier. In this model, the probabilities describing the possible outcomes of a single trial are modeled using a logistic function.\n",
    "\n",
    "- Real world application \n",
    "\n",
    "\n",
    "- Spam detection: Bayesian classification, k-NN, ANNs, SVMs (google)\n",
    "- Fraud detection:un-/supervised\n",
    "Supervised neural networks, fuzzy neural nets, and combinations of neural nets and rules, have been extensively explored and used for detecting fraud in mobile phone networks and financial statement fraud. (wikipedia)\n",
    "Bayesian learning neural network is implemented for credit card fraud detection, telecommunications fraud, auto claim fraud detection, and medical insurance fraud(wikipedia)\n",
    "Some important studies with unsupervised learning with respect to fraud detection should be mentioned. For example, Bolton and Hand[11] use Peer Group Analysis and Break Point Analysis applied on spending behaviour in credit card accounts. Peer Group Analysis detects individual objects that begin to behave in a way different from objects to which they had previously been similar. Another tool Bolton and Hand[11] develop for behavioural fraud detection is Break Point Analysis. Unlike Peer Group Analysis, Break Point Analysis operates on the account level. A break point is an observation where anomalous behaviour for a particular account is detected. Both the tools are applied on spending behaviour in credit card accounts.(wikipedia)\n",
    "\n",
    "- Handwritten digit recognition: linear classifier, knn, ann, svm, principal component analysis, polynomial classifier\n",
    "\n",
    "- Speech recognition: deep feedforward and recurrent neural networks (wiki)\n",
    "https://www.microsoft.com/en-us/research/wp-content/uploads/2016/02/tasl-deng-2244083-x_2.pdf\n",
    "\n",
    "- Face detection:\n",
    "https://arxiv.org/abs/1503.03832\n",
    "\n",
    "- Product recommendation:\n",
    "https://www.quora.com/How-exactly-is-machine-learning-used-in-recommendation-engines\n",
    "\n"
   ]
  },
  {
   "cell_type": "markdown",
   "metadata": {
    "nbpresent": {
     "id": "77c1e01b-4e2a-4118-8b9b-b1758a85f2ad"
    }
   },
   "source": [
    "### Question 2 - Model Application\n",
    "*List three supervised learning models that are appropriate for this problem. For each model chosen*\n",
    "- Describe one real-world application in industry where the model can be applied. *(You may need to do a small bit of research for this — give references!)* \n",
    "- What are the strengths of the model; when does it perform well? \n",
    "- What are the weaknesses of the model; when does it perform poorly?\n",
    "- What makes this model a good candidate for the problem, given what you know about the data?"
   ]
  },
  {
   "cell_type": "markdown",
   "metadata": {
    "nbpresent": {
     "id": "68f4d0a8-5839-4804-a776-1275a3f7d950"
    }
   },
   "source": [
    "1. Bagged Decission Tree\n",
    "    1.1 General App: Given remote sensing data from satelite, classify different types of land: mountainous terrain, urban terrain, agricultural lands or Wetlands.\n",
    "    1.2 Strengths and Weaknesses\n",
    "        Pros:\n",
    "            reduces variance in comparison to regular decision trees\n",
    "            Can provide variable importance measures\n",
    "                classification: Gini index\n",
    "                regression: RSS\n",
    "            Can easily handle qualitative (categorical) features\n",
    "            Out of bag (OOB) estimates can be used for model validation\n",
    "        Cons:\n",
    "            Not as easy to visually interpret\n",
    "            Does not reduce variance if the features are correlated\n",
    "    1.3 why this model: This model could deal with classification problem with small data samples. The variance reducing ability might be especially useful in this case. Bagged tree can easily handle qualitative and categorical features. The given data has both.\n",
    "\n",
    "2. KNN\n",
    "    2.1 General App: classifying data into clusters in unsupervised learning; recommend a similar product.\n",
    "    2.2 Strengths and Weaknesses\n",
    "        Pros:\n",
    "            simple, cheap, no training involved(\"lazy\")\n",
    "            naturally handle multiclass classification and regression\n",
    "        Cons:\n",
    "            expensive and slow predicting new instances\n",
    "            distance function must be difined in a meaningful way to data\n",
    "            perform poorly on high dimension dataset\n",
    "    2.3 why this model: This model is a natural pick for classification problem. As mentioned in the sklearn \"Choosing the right estimator\"(http://scikit-learn.org/stable/tutorial/machine_learning_map/), it is the first picked algorithm. We don't want to pick a complex model, while the problem could be solved be a simpler one. As we shall not assume the data given is complex or not in the first place.\n",
    "\n",
    "3. SVC\n",
    "    3.1 General App: content based image retrival; facial expression classification; text classification; protein structure prediction.\n",
    "    3.2 Strengths and Weaknesses\n",
    "        Pros:\n",
    "            Performs similarly to logistic regression when linear separation\n",
    "            Performs well with non-linear boundary depending on the kernel used\n",
    "            Handle high dimensional data well\n",
    "            Robust to noise (because they maximize margins)\n",
    "        Cons:\n",
    "            Susceptible to overfitting/training issues depending on kernel\n",
    "            Need to select a good kernel function\n",
    "            Model parameters are difficult to interpret\n",
    "            Sometimes numerical stability problems\n",
    "            Requires significant memory and processing power\n",
    "     3.3 why this model: This model also deals with classification problem. It is chosen because it is more flexible. There are more parameterrs to play with. While in our case, we have a small data sample, it won't cost too much memory and processing power."
   ]
  },
  {
   "cell_type": "markdown",
   "metadata": {
    "nbpresent": {
     "id": "be445db2-66f0-4ae5-b94a-8016d06b8e11"
    }
   },
   "source": [
    "### Setup\n",
    "Run the code cell below to initialize three helper functions which you can use for training and testing the three supervised learning models you've chosen above. The functions are as follows:\n",
    "- `train_classifier` - takes as input a classifier and training data and fits the classifier to the data.\n",
    "- `predict_labels` - takes as input a fit classifier, features, and a target labeling and makes predictions using the F<sub>1</sub> score.\n",
    "- `train_predict` - takes as input a classifier, and the training and testing data, and performs `train_clasifier` and `predict_labels`.\n",
    " - This function will report the F<sub>1</sub> score for both the training and testing data separately."
   ]
  },
  {
   "cell_type": "code",
   "execution_count": 13,
   "metadata": {
    "collapsed": false,
    "nbpresent": {
     "id": "a25aa0a6-696b-4e33-9087-69fec4bfd985"
    }
   },
   "outputs": [],
   "source": [
    "def train_classifier(clf, X_train, y_train):\n",
    "    ''' Fits a classifier to the training data. '''\n",
    "    start = time()\n",
    "    #from sklearn.cross_validation import ShuffleSplit\n",
    "    #cv = ShuffleSplit(X_train.shape[0], n_iter=10, test_size=0.2, random_state=0)\n",
    "    \n",
    "    #from sklearn.grid_search import GridSearchCV\n",
    "    #gammas = np.logspace(-6, -1, 10)\n",
    "    #classifier = GridSearchCV(estimator=clf, cv=cv, param_grid=dict(gamma=gammas))\n",
    "    #classifier.fit(X_train, y_train)\n",
    "    # Start the clock, train the classifier, then stop the clock\n",
    "    clf.fit(X_train, y_train)\n",
    "    end = time()\n",
    "    \n",
    "    # Print the results\n",
    "    print \"Trained model in {:.4f} seconds\".format(end - start)\n",
    "\n",
    "    \n",
    "def predict_labels(clf, features, target):\n",
    "    ''' Makes predictions using a fit classifier based on F1 score. '''\n",
    "    \n",
    "    # Start the clock, make predictions, then stop the clock\n",
    "    start = time()\n",
    "    y_pred = clf.predict(features)\n",
    "    end = time()\n",
    "    \n",
    "    from sklearn.metrics import fbeta_score\n",
    "    # Print and return results\n",
    "    print \"Made predictions in {:.4f} seconds.\".format(end - start)\n",
    "    #f1_score = make_scorer(fbeta_score, beta=2)\n",
    "    return fbeta_score(target.values, y_pred, beta=2, pos_label='yes')\n",
    "\n",
    "\n",
    "def train_predict(clf, X_train, y_train, X_test, y_test):\n",
    "    ''' Train and predict using a classifer based on F1 score. '''\n",
    "    \n",
    "    # Indicate the classifier and the training set size\n",
    "    print \"Training a {} using a training set size of {}. . .\".format(clf.__class__.__name__, len(X_train))\n",
    "    \n",
    "    # Train the classifier\n",
    "    train_classifier(clf, X_train, y_train)\n",
    "    \n",
    "    # Print the results of prediction for both training and testing\n",
    "    print \"F1 score for training set: {:.4f}.\".format(predict_labels(clf, X_train, y_train))\n",
    "    print \"F1 score for test set: {:.4f}.\".format(predict_labels(clf, X_test, y_test))"
   ]
  },
  {
   "cell_type": "markdown",
   "metadata": {
    "nbpresent": {
     "id": "3fe6cf55-16ff-448a-b85e-4aca1b86365b"
    }
   },
   "source": [
    "### Implementation: Model Performance Metrics\n",
    "With the predefined functions above, you will now import the three supervised learning models of your choice and run the `train_predict` function for each one. Remember that you will need to train and predict on each classifier for three different training set sizes: 100, 200, and 300. Hence, you should expect to have 9 different outputs below — 3 for each model using the varying training set sizes. In the following code cell, you will need to implement the following:\n",
    "- Import the three supervised learning models you've discussed in the previous section.\n",
    "- Initialize the three models and store them in `clf_A`, `clf_B`, and `clf_C`.\n",
    " - Use a `random_state` for each model you use, if provided.\n",
    " - **Note:** Use the default settings for each model — you will tune one specific model in a later section.\n",
    "- Create the different training set sizes to be used to train each model.\n",
    " - *Do not reshuffle and resplit the data! The new training points should be drawn from `X_train` and `y_train`.*\n",
    "- Fit each model with each training set size and make predictions on the test set (9 in total).  \n",
    "**Note:** Three tables are provided after the following code cell which can be used to store your results."
   ]
  },
  {
   "cell_type": "code",
   "execution_count": 14,
   "metadata": {
    "collapsed": false,
    "nbpresent": {
     "id": "b36b7078-01e5-4c2d-a47a-af1f6e664027"
    }
   },
   "outputs": [
    {
     "name": "stdout",
     "output_type": "stream",
     "text": [
      "Training a BaggingClassifier using a training set size of 100. . .\n",
      "Trained model in 0.0649 seconds\n",
      "Made predictions in 0.0012 seconds.\n",
      "F1 score for training set: 0.9756.\n",
      "Made predictions in 0.0014 seconds.\n",
      "F1 score for test set: 0.6349.\n",
      "Training a BaggingClassifier using a training set size of 200. . .\n",
      "Trained model in 0.0417 seconds\n",
      "Made predictions in 0.0013 seconds.\n",
      "F1 score for training set: 0.9737.\n",
      "Made predictions in 0.0010 seconds.\n",
      "F1 score for test set: 0.6329.\n",
      "Training a BaggingClassifier using a training set size of 300. . .\n",
      "Trained model in 0.0548 seconds\n",
      "Made predictions in 0.0017 seconds.\n",
      "F1 score for training set: 0.9681.\n",
      "Made predictions in 0.0010 seconds.\n",
      "F1 score for test set: 0.7407.\n",
      "Training a NearestCentroid using a training set size of 100. . .\n",
      "Trained model in 0.0003 seconds\n",
      "Made predictions in 0.0081 seconds.\n",
      "F1 score for training set: 0.6013.\n",
      "Made predictions in 0.0003 seconds.\n",
      "F1 score for test set: 0.6070.\n",
      "Training a NearestCentroid using a training set size of 200. . .\n",
      "Trained model in 0.0006 seconds\n",
      "Made predictions in 0.0003 seconds.\n",
      "F1 score for training set: 0.7000.\n",
      "Made predictions in 0.0002 seconds.\n",
      "F1 score for test set: 0.6109.\n",
      "Training a NearestCentroid using a training set size of 300. . .\n",
      "Trained model in 0.0005 seconds\n",
      "Made predictions in 0.0002 seconds.\n",
      "F1 score for training set: 0.6970.\n",
      "Made predictions in 0.0002 seconds.\n",
      "F1 score for test set: 0.6571.\n",
      "Training a SVC using a training set size of 100. . .\n",
      "Trained model in 0.0013 seconds\n",
      "Made predictions in 0.0007 seconds.\n",
      "F1 score for training set: 0.9066.\n",
      "Made predictions in 0.0007 seconds.\n",
      "F1 score for test set: 0.9117.\n",
      "Training a SVC using a training set size of 200. . .\n",
      "Trained model in 0.0030 seconds\n",
      "Made predictions in 0.0022 seconds.\n",
      "F1 score for training set: 0.9028.\n",
      "Made predictions in 0.0011 seconds.\n",
      "F1 score for test set: 0.9117.\n",
      "Training a SVC using a training set size of 300. . .\n",
      "Trained model in 0.0064 seconds\n",
      "Made predictions in 0.0059 seconds.\n",
      "F1 score for training set: 0.9103.\n",
      "Made predictions in 0.0015 seconds.\n",
      "F1 score for test set: 0.9117.\n"
     ]
    }
   ],
   "source": [
    "# TODO: Import the three supervised learning models from sklearn\n",
    "# from sklearn import model_A\n",
    "# from sklearn import model_B\n",
    "# from skearln import model_C\n",
    "from sklearn.metrics import make_scorer\n",
    "from sklearn.metrics import fbeta_score\n",
    "from sklearn.ensemble import BaggingClassifier\n",
    "from sklearn.tree import DecisionTreeClassifier\n",
    "\n",
    "#from sklearn.neighbors import NearestNeighbors\n",
    "from sklearn.neighbors.nearest_centroid import NearestCentroid\n",
    "\n",
    "from sklearn.ensemble import RandomForestClassifier\n",
    "\n",
    "from sklearn.svm import SVC\n",
    "\n",
    "# TODO: Initialize the three models\n",
    "clf_A = BaggingClassifier(DecisionTreeClassifier(random_state=42))\n",
    "clf_B = NearestCentroid()\n",
    "clf_C = SVC(random_state=42)\n",
    "\n",
    "# TODO: Set up the training set sizes\n",
    "X_train_100 = X_train[:99]\n",
    "y_train_100 = y_train[:99]\n",
    "\n",
    "X_train_200 = X_train[:199]\n",
    "y_train_200 = y_train[:199]\n",
    "\n",
    "X_train_300 = X_train[:299]\n",
    "y_train_300 = y_train[:299]\n",
    "\n",
    "# TODO: Execute the 'train_predict' function for each classifier and each training set size\n",
    "# train_predict(clf, X_train, y_train, X_test, y_test)\n",
    "#print y_train_100\n",
    "#bagged tree\n",
    "#train_predict(clf_A, X_train_100, y_train_100, X_test, y_test)\n",
    "#train_predict(clf_A, X_train_200, y_train_200, X_test, y_test)\n",
    "#train_predict(clf_A, X_train_300, y_train_300, X_test, y_test)\n",
    "\n",
    "#KNN\n",
    "#train_predict(clf_B, X_train_100, y_train_100, X_test, y_test)\n",
    "#train_predict(clf_B, X_train_200, y_train_200, X_test, y_test)\n",
    "#train_predict(clf_B, X_train_300, y_train_300, X_test, y_test)\n",
    "\n",
    "#Random Forest\n",
    "#train_predict(clf_C, X_train_100, y_train_100, X_test, y_test)\n",
    "#train_predict(clf_C, X_train_200, y_train_200, X_test, y_test)\n",
    "#train_predict(clf_C, X_train_300, y_train_300, X_test, y_test)\n",
    "\n",
    "#SVM\n",
    "#train_predict(clf_D, X_train_100, y_train_100, X_test, y_test)\n",
    "#train_predict(clf_D, X_train_200, y_train_200, X_test, y_test)\n",
    "#train_predict(clf_D, X_train_300, y_train_300, X_test, y_test)\n",
    "\n",
    "for clf in [clf_A, clf_B, clf_C]:\n",
    "    for size in [100, 200, 300]:\n",
    "        train_predict(clf, X_train[:size], y_train[:size], X_test, y_test)\n",
    "\n",
    "'''Suggestion: look at confusion matrix\n",
    "To get a closer look at how the models are predicting the labels, you can also experiment with plotting a confusion\n",
    "matrix...\n",
    "'''\n",
    "\n",
    "from sklearn.metrics import confusion_matrix\n",
    "import seaborn as sns\n",
    "import matplotlib.pyplot as plt\n",
    "\n",
    "#compute the confusion matrix for a model\n",
    "model = clf_C\n",
    "cm = confusion_matrix(y_test.values, model.predict(X_test))\n",
    "\n",
    "#view with a heatmap\n",
    "sns.heatmap(cm, annot=True, cmap='Blues', xticklabels=['no','yes'], yticklabels=['no', 'yes'])\n",
    "plt.ylabel('True label')\n",
    "plt.xlabel('Predicted label')\n",
    "plt.title('Confusion matrix for:\\n{}'.format(model.__class__.__name__));"
   ]
  },
  {
   "cell_type": "markdown",
   "metadata": {
    "nbpresent": {
     "id": "c1621511-1771-4573-bc40-ca650bb5a3eb"
    }
   },
   "source": [
    "### Tabular Results\n",
    "Edit the cell below to see how a table can be designed in [Markdown](https://github.com/adam-p/markdown-here/wiki/Markdown-Cheatsheet#tables). You can record your results from above in the tables provided."
   ]
  },
  {
   "cell_type": "markdown",
   "metadata": {
    "nbpresent": {
     "id": "9048563b-db25-4c37-ab25-bce09c6100aa"
    }
   },
   "source": [
    "** Classifer 1 - Bagged Tree**  \n",
    "\n",
    "| Training Set Size | Training Time | Prediction Time (test) | F1 Score (train) | F1 Score (test) |\n",
    "| :---------------: | :---------------------: | :--------------------: | :--------------: | :-------------: |\n",
    "| 100               |         0.0526          |          0.0012        |       0.9925        |    0.6769       |\n",
    "| 200               |        0.0320           |      0.0012            |       0.9847      |    0.7132       |\n",
    "| 300               |        0.0344           |       0.0022           |     0.9925       |    0.7481       |\n",
    "\n",
    "** Classifer 2 - Nearest centoid**  \n",
    "\n",
    "| Training Set Size | Training Time | Prediction Time (test) | F1 Score (train) | F1 Score (test) |\n",
    "| :---------------: | :---------------------: | :--------------------: | :--------------: | :-------------: |\n",
    "| 100               |         0.0009          |     0.0004             |        0.5556       |     0.5310      |\n",
    "| 200               |     0.0009              |      0.0006            |       0.6868        |     0.6880      |\n",
    "| 300               |           0.0009        |        0.0004          |      0.7018         |     0.6667      |\n",
    " \n",
    "** Classifer 3 - SVM **  \n",
    "\n",
    "| Training Set Size | Training Time | Prediction Time (test) | F1 Score (train) | F1 Score (test) |\n",
    "| :---------------: | :---------------------: | :--------------------: | :--------------: | :-------------: |\n",
    "| 100               |         0.0019             |          0.0010        |     0.8354       |       0.8025      |\n",
    "| 200               |         0.0038          |          0.0013        |     0.8431       |       0.8105      |\n",
    "| 300               |          0.0077         |          0.0014        |     0.8664       |       0.8052      |"
   ]
  },
  {
   "cell_type": "markdown",
   "metadata": {
    "nbpresent": {
     "id": "5e593250-03e5-41a4-b6e4-b02d78cabba4"
    }
   },
   "source": [
    "## Choosing the Best Model\n",
    "In this final section, you will choose from the three supervised learning models the *best* model to use on the student data. You will then perform a grid search optimization for the model over the entire training set (`X_train` and `y_train`) by tuning at least one parameter to improve upon the untuned model's F<sub>1</sub> score. "
   ]
  },
  {
   "cell_type": "markdown",
   "metadata": {
    "nbpresent": {
     "id": "df7066e8-e18e-4bae-9d73-c387f18a4e8a"
    }
   },
   "source": [
    "### Question 3 - Choosing the Best Model\n",
    "*Based on the experiments you performed earlier, in one to two paragraphs, explain to the board of supervisors what single model you chose as the best model. Which model is generally the most appropriate based on the available data, limited resources, cost, and performance?*"
   ]
  },
  {
   "cell_type": "markdown",
   "metadata": {
    "nbpresent": {
     "id": "961b901d-50eb-4cf0-a469-970faabe29b5"
    }
   },
   "source": [
    "The best model is SVC. SVC is known to solve classification problems. In our case is classify students as 'passed' or 'fail'. There are around 400 samples in our data. The model uses a subset of that data in decision function, so it further reduces memory consumption. In terms of training time, it is considerably fast. The model shows a test score of 0.787, which is among the best."
   ]
  },
  {
   "cell_type": "markdown",
   "metadata": {
    "nbpresent": {
     "id": "1aeaaac3-7b79-451f-b0fb-6a0857a2cea1"
    }
   },
   "source": [
    "### Question 4 - Model in Layman's Terms\n",
    "*In one to two paragraphs, explain to the board of directors in layman's terms how the final model chosen is supposed to work. Be sure that you are describing the major qualities of the model, such as how the model is trained and how the model makes a prediction. Avoid using advanced mathematical or technical jargon, such as describing equations or discussing the algorithm implementation.*"
   ]
  },
  {
   "cell_type": "markdown",
   "metadata": {
    "nbpresent": {
     "id": "35a0284b-857d-43ff-825c-e27d51819728"
    }
   },
   "source": [
    "The final model chosen is Support Vector Classifier. Let's consider a simple problem: for a 2D set of points, find a straight seperating line. SVM define the worth of line as: A line is bad if it passes too close to the points because it will be noise sensitive and it will not generalize correctly. Therefore, our goal should be to find the line passing as far as possible from all points. Thus the algorithm is based on finding the largest minimun distance to the training samples. This distance is called Margin within SVM algorithm.\n",
    "![Image of SVM](https://udacity-github-sync-content.s3.amazonaws.com/_imgs/372/1473447655/SVM_2.png)\n",
    "As showed in the picture, the dotted line is the optimal seperating straight line. The minimun distance between the solid lines is margin. The closest data samples are called support vector.\n",
    "\n",
    "SVM works as well when dataset is not linear seperatable. Consider the following dataset:\n",
    "![Image of nonlinear dataset](http://www.eric-kim.net/eric-kim-net/posts/1/imgs/dataset_nonsep.png)\n",
    "\n",
    "There is no linear line here seperates the data well.\n",
    "The way SVM deals with this problem is called kernel trick. What kernel trick does is it takes the input and maps them into higher dimensions. Looking at the left image below, the kernel trick maps the original dataset to a 3D space. Now the dataset is seperatable. The decision boundary is depicted as a green hyperplane.\n",
    "![Image of nonlinear dataset in R3](http://www.eric-kim.net/eric-kim-net/posts/1/imgs/data_2d_to_3d_hyperplane.png)\n",
    "\n",
    "When we map our dataset and decision boundary back to 2D space, we get the picture on the right."
   ]
  },
  {
   "cell_type": "markdown",
   "metadata": {
    "nbpresent": {
     "id": "eb16cf1e-53c6-4193-b2ab-911b9f7392df"
    }
   },
   "source": [
    "### Implementation: Model Tuning\n",
    "Fine tune the chosen model. Use grid search (`GridSearchCV`) with at least one important parameter tuned with at least 3 different values. You will need to use the entire training set for this. In the code cell below, you will need to implement the following:\n",
    "- Import [`sklearn.grid_search.gridSearchCV`](http://scikit-learn.org/stable/modules/generated/sklearn.grid_search.GridSearchCV.html) and [`sklearn.metrics.make_scorer`](http://scikit-learn.org/stable/modules/generated/sklearn.metrics.make_scorer.html).\n",
    "- Create a dictionary of parameters you wish to tune for the chosen model.\n",
    " - Example: `parameters = {'parameter' : [list of values]}`.\n",
    "- Initialize the classifier you've chosen and store it in `clf`.\n",
    "- Create the F<sub>1</sub> scoring function using `make_scorer` and store it in `f1_scorer`.\n",
    " - Set the `pos_label` parameter to the correct value!\n",
    "- Perform grid search on the classifier `clf` using `f1_scorer` as the scoring method, and store it in `grid_obj`.\n",
    "- Fit the grid search object to the training data (`X_train`, `y_train`), and store it in `grid_obj`."
   ]
  },
  {
   "cell_type": "code",
   "execution_count": 15,
   "metadata": {
    "collapsed": false,
    "nbpresent": {
     "id": "6ec4147b-055f-4496-9683-83f98952c7a4"
    }
   },
   "outputs": [
    {
     "name": "stdout",
     "output_type": "stream",
     "text": [
      "Made predictions in 0.0035 seconds.\n",
      "Tuned model has a training F1 score of 0.9103.\n",
      "Made predictions in 0.0012 seconds.\n",
      "Tuned model has a testing F1 score of 0.9117.\n"
     ]
    }
   ],
   "source": [
    "# TODO: Import 'GridSearchCV' and 'make_scorer'\n",
    "from sklearn.grid_search import GridSearchCV\n",
    "from sklearn.metrics import fbeta_score, make_scorer\n",
    "from sklearn.svm import SVC\n",
    "from sklearn.cross_validation import ShuffleSplit, StratifiedShuffleSplit\n",
    "from sklearn.metrics import f1_score\n",
    "\n",
    "\n",
    "\n",
    "# TODO: Create the parameters list you wish to tune\n",
    "parameters = {'kernel': ['rbf', 'poly', 'sigmoid'], 'degree': [2, 3, 4], 'gamma': [1e-30, 1e-40, 1e-50, 1e-60],\n",
    "                     'C': [1, 10, 100, 1000]}\n",
    "\n",
    "ssscv = StratifiedShuffleSplit(y_train, n_iter=10, test_size=0.1)\n",
    "#cv = ShuffleSplit(X_train.shape[0], n_iter=10, test_size=0.2, random_state=0)\n",
    "\n",
    "# TODO: Initialize the classifier\n",
    "clf = SVC()\n",
    "\n",
    "'''\n",
    "Suggestion: using F-beta\n",
    "The F1 score assigns equal weighting to precision and recall, but in some cases you might want to optimize for one over\n",
    "the other (eg, over-weighting recall to detect more of the 'not passing' students). For that you can use F-beta score\n",
    "instead...\n",
    "beta < 1: more weight to precision\n",
    "beta > 1: more weight to recall\n",
    "'''\n",
    "# TODO: Make an f1 scoring function using 'make_scorer' \n",
    "f2_scorer = make_scorer(fbeta_score, beta=2, pos_label=\"yes\")\n",
    "\n",
    "# TODO: Perform grid search on the classifier using the f1_scorer as the scoring method\n",
    "grid_obj = GridSearchCV(estimator=clf, param_grid=parameters, scoring=f2_scorer, cv=ssscv)\n",
    "\n",
    "# TODO: Fit the grid search object to the training data and find the optimal parameters\n",
    "gird_obj=grid_obj.fit(X_train, y_train)\n",
    "\n",
    "# Get the estimator\n",
    "clf = grid_obj.best_estimator_\n",
    "\n",
    "# Report the final F1 score for training and testing after parameter tuning\n",
    "print \"Tuned model has a training F1 score of {:.4f}.\".format(predict_labels(clf, X_train, y_train))\n",
    "print \"Tuned model has a testing F1 score of {:.4f}.\".format(predict_labels(clf, X_test, y_test))"
   ]
  },
  {
   "cell_type": "markdown",
   "metadata": {
    "nbpresent": {
     "id": "0b31a9bd-d6e9-407b-8dfc-3940f8095c65"
    }
   },
   "source": [
    "### Question 5 - Final F<sub>1</sub> Score\n",
    "*What is the final model's F<sub>1</sub> score for training and testing? How does that score compare to the untuned model?*"
   ]
  },
  {
   "cell_type": "markdown",
   "metadata": {
    "nbpresent": {
     "id": "2e41da03-486e-4cc9-81b7-37bd5b640159"
    }
   },
   "source": [
    ".8050 is the final score. It does not show much improvements."
   ]
  },
  {
   "cell_type": "markdown",
   "metadata": {
    "nbpresent": {
     "id": "4e468902-d90d-4236-9d4a-b4b6d6bbc0b0"
    }
   },
   "source": [
    "> **Note**: Once you have completed all of the code implementations and successfully answered each question above, you may finalize your work by exporting the iPython Notebook as an HTML document. You can do this by using the menu above and navigating to  \n",
    "**File -> Download as -> HTML (.html)**. Include the finished document along with this notebook as your submission."
   ]
  }
 ],
 "metadata": {
  "anaconda-cloud": {},
  "kernelspec": {
   "display_name": "Python [Root]",
   "language": "python",
   "name": "Python [Root]"
  },
  "language_info": {
   "codemirror_mode": {
    "name": "ipython",
    "version": 2
   },
   "file_extension": ".py",
   "mimetype": "text/x-python",
   "name": "python",
   "nbconvert_exporter": "python",
   "pygments_lexer": "ipython2",
   "version": "2.7.12"
  }
 },
 "nbformat": 4,
 "nbformat_minor": 0
}
